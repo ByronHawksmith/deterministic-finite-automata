{
 "metadata": {
  "language_info": {
   "codemirror_mode": {
    "name": "ipython",
    "version": 3
   },
   "file_extension": ".py",
   "mimetype": "text/x-python",
   "name": "python",
   "nbconvert_exporter": "python",
   "pygments_lexer": "ipython3",
   "version": "3.9.2-final"
  },
  "orig_nbformat": 2,
  "kernelspec": {
   "name": "python392jvsc74a57bd0406369a85f6ad1f6c6f34671bc9e4a9e6f3d002885b76492a07ad125686044b8",
   "display_name": "Python 3.9.2 64-bit"
  },
  "metadata": {
   "interpreter": {
    "hash": "406369a85f6ad1f6c6f34671bc9e4a9e6f3d002885b76492a07ad125686044b8"
   }
  }
 },
 "nbformat": 4,
 "nbformat_minor": 2,
 "cells": [
  {
   "cell_type": "code",
   "execution_count": 1,
   "metadata": {},
   "outputs": [],
   "source": [
    "# Python Task 1\n",
    "import random\n",
    "random.seed(110235171)"
   ]
  },
  {
   "cell_type": "code",
   "execution_count": 2,
   "metadata": {
    "tags": []
   },
   "outputs": [
    {
     "output_type": "stream",
     "name": "stdout",
     "text": [
      "{'S1': True, 'S2': True, 'S3': True, 'S4': True}\n['S1', 'S2', 'S3', 'S4']\n['S5']\n"
     ]
    }
   ],
   "source": [
    "# Python Task 2\n",
    "from example_dfa import ExampleDFA\n",
    "my_dfa = ExampleDFA.one()\n",
    "print(my_dfa.bfs())\n",
    "print(my_dfa.reachable_state_names)\n",
    "print(my_dfa.unreachable_state_names)"
   ]
  },
  {
   "cell_type": "code",
   "execution_count": 3,
   "metadata": {},
   "outputs": [],
   "source": [
    "# Python Task 3\n",
    "my_dfa = ExampleDFA.three()"
   ]
  },
  {
   "cell_type": "code",
   "execution_count": 4,
   "metadata": {
    "tags": []
   },
   "outputs": [
    {
     "output_type": "execute_result",
     "data": {
      "text/plain": [
       "        0    1\n",
       "S0     S7  S13\n",
       "S1     S1  S22\n",
       "S2     S6   S6\n",
       "S4     S9  S23\n",
       "S5     S2   S0\n",
       "S6    S24   S0\n",
       "S7    S19  S11\n",
       "→S8    S8  S15\n",
       "S9     S7  S25\n",
       "*S10   S2   S5\n",
       "S11   S16   S9\n",
       "S12   S24   S0\n",
       "S13    S1  S15\n",
       "S14   S13  S10\n",
       "S15    S6   S5\n",
       "S16   S18  S12\n",
       "S17   S15  S20\n",
       "S18   S10   S8\n",
       "S19   S14  S26\n",
       "S20    S8  S25\n",
       "S21    S8  S26\n",
       "S22   S17   S2\n",
       "S23    S8  S25\n",
       "*S24  S17  S20\n",
       "*S25   S4  S21\n",
       "S26   S19  S26"
      ],
      "text/html": "<div>\n<style scoped>\n    .dataframe tbody tr th:only-of-type {\n        vertical-align: middle;\n    }\n\n    .dataframe tbody tr th {\n        vertical-align: top;\n    }\n\n    .dataframe thead th {\n        text-align: right;\n    }\n</style>\n<table border=\"1\" class=\"dataframe\">\n  <thead>\n    <tr style=\"text-align: right;\">\n      <th></th>\n      <th>0</th>\n      <th>1</th>\n    </tr>\n  </thead>\n  <tbody>\n    <tr>\n      <th>S0</th>\n      <td>S7</td>\n      <td>S13</td>\n    </tr>\n    <tr>\n      <th>S1</th>\n      <td>S1</td>\n      <td>S22</td>\n    </tr>\n    <tr>\n      <th>S2</th>\n      <td>S6</td>\n      <td>S6</td>\n    </tr>\n    <tr>\n      <th>S4</th>\n      <td>S9</td>\n      <td>S23</td>\n    </tr>\n    <tr>\n      <th>S5</th>\n      <td>S2</td>\n      <td>S0</td>\n    </tr>\n    <tr>\n      <th>S6</th>\n      <td>S24</td>\n      <td>S0</td>\n    </tr>\n    <tr>\n      <th>S7</th>\n      <td>S19</td>\n      <td>S11</td>\n    </tr>\n    <tr>\n      <th>→S8</th>\n      <td>S8</td>\n      <td>S15</td>\n    </tr>\n    <tr>\n      <th>S9</th>\n      <td>S7</td>\n      <td>S25</td>\n    </tr>\n    <tr>\n      <th>*S10</th>\n      <td>S2</td>\n      <td>S5</td>\n    </tr>\n    <tr>\n      <th>S11</th>\n      <td>S16</td>\n      <td>S9</td>\n    </tr>\n    <tr>\n      <th>S12</th>\n      <td>S24</td>\n      <td>S0</td>\n    </tr>\n    <tr>\n      <th>S13</th>\n      <td>S1</td>\n      <td>S15</td>\n    </tr>\n    <tr>\n      <th>S14</th>\n      <td>S13</td>\n      <td>S10</td>\n    </tr>\n    <tr>\n      <th>S15</th>\n      <td>S6</td>\n      <td>S5</td>\n    </tr>\n    <tr>\n      <th>S16</th>\n      <td>S18</td>\n      <td>S12</td>\n    </tr>\n    <tr>\n      <th>S17</th>\n      <td>S15</td>\n      <td>S20</td>\n    </tr>\n    <tr>\n      <th>S18</th>\n      <td>S10</td>\n      <td>S8</td>\n    </tr>\n    <tr>\n      <th>S19</th>\n      <td>S14</td>\n      <td>S26</td>\n    </tr>\n    <tr>\n      <th>S20</th>\n      <td>S8</td>\n      <td>S25</td>\n    </tr>\n    <tr>\n      <th>S21</th>\n      <td>S8</td>\n      <td>S26</td>\n    </tr>\n    <tr>\n      <th>S22</th>\n      <td>S17</td>\n      <td>S2</td>\n    </tr>\n    <tr>\n      <th>S23</th>\n      <td>S8</td>\n      <td>S25</td>\n    </tr>\n    <tr>\n      <th>*S24</th>\n      <td>S17</td>\n      <td>S20</td>\n    </tr>\n    <tr>\n      <th>*S25</th>\n      <td>S4</td>\n      <td>S21</td>\n    </tr>\n    <tr>\n      <th>S26</th>\n      <td>S19</td>\n      <td>S26</td>\n    </tr>\n  </tbody>\n</table>\n</div>"
     },
     "metadata": {},
     "execution_count": 4
    }
   ],
   "source": [
    "# Python Task 4\n",
    "# BFS is run when DFA is constructed\n",
    "my_dfa.table_df"
   ]
  },
  {
   "cell_type": "code",
   "execution_count": 5,
   "metadata": {
    "tags": []
   },
   "outputs": [
    {
     "output_type": "stream",
     "name": "stdout",
     "text": [
      "['S0', 'S1', 'S10', 'S11', 'S12', 'S13', 'S14', 'S15', 'S16', 'S17', 'S18', 'S19', 'S2', 'S20', 'S21', 'S22', 'S23', 'S24', 'S25', 'S26', 'S4', 'S5', 'S6', 'S7', 'S8', 'S9']\n['S3']\n"
     ]
    }
   ],
   "source": [
    "# Python Task 4\n",
    "print(my_dfa.reachable_state_names)\n",
    "print(my_dfa.unreachable_state_names)"
   ]
  },
  {
   "cell_type": "code",
   "execution_count": 6,
   "metadata": {},
   "outputs": [
    {
     "output_type": "execute_result",
     "data": {
      "text/plain": [
       "                  0          1\n",
       "S0               S7        S13\n",
       "S1               S1        S22\n",
       "S2         {S12,S6}   {S12,S6}\n",
       "S4               S9  {S20,S23}\n",
       "S5               S2         S0\n",
       "S7              S19        S11\n",
       "→S8              S8        S15\n",
       "S9               S7        S25\n",
       "*S10             S2         S5\n",
       "S11             S16         S9\n",
       "S13              S1        S15\n",
       "S14             S13        S10\n",
       "S15        {S12,S6}         S5\n",
       "S16             S18   {S12,S6}\n",
       "S17             S15  {S20,S23}\n",
       "S18             S10         S8\n",
       "S19             S14        S26\n",
       "S21              S8        S26\n",
       "S22             S17         S2\n",
       "*S24            S17  {S20,S23}\n",
       "*S25             S4        S21\n",
       "S26             S19        S26\n",
       "{S12,S6}        S24         S0\n",
       "{S20,S23}        S8        S25"
      ],
      "text/html": "<div>\n<style scoped>\n    .dataframe tbody tr th:only-of-type {\n        vertical-align: middle;\n    }\n\n    .dataframe tbody tr th {\n        vertical-align: top;\n    }\n\n    .dataframe thead th {\n        text-align: right;\n    }\n</style>\n<table border=\"1\" class=\"dataframe\">\n  <thead>\n    <tr style=\"text-align: right;\">\n      <th></th>\n      <th>0</th>\n      <th>1</th>\n    </tr>\n  </thead>\n  <tbody>\n    <tr>\n      <th>S0</th>\n      <td>S7</td>\n      <td>S13</td>\n    </tr>\n    <tr>\n      <th>S1</th>\n      <td>S1</td>\n      <td>S22</td>\n    </tr>\n    <tr>\n      <th>S2</th>\n      <td>{S12,S6}</td>\n      <td>{S12,S6}</td>\n    </tr>\n    <tr>\n      <th>S4</th>\n      <td>S9</td>\n      <td>{S20,S23}</td>\n    </tr>\n    <tr>\n      <th>S5</th>\n      <td>S2</td>\n      <td>S0</td>\n    </tr>\n    <tr>\n      <th>S7</th>\n      <td>S19</td>\n      <td>S11</td>\n    </tr>\n    <tr>\n      <th>→S8</th>\n      <td>S8</td>\n      <td>S15</td>\n    </tr>\n    <tr>\n      <th>S9</th>\n      <td>S7</td>\n      <td>S25</td>\n    </tr>\n    <tr>\n      <th>*S10</th>\n      <td>S2</td>\n      <td>S5</td>\n    </tr>\n    <tr>\n      <th>S11</th>\n      <td>S16</td>\n      <td>S9</td>\n    </tr>\n    <tr>\n      <th>S13</th>\n      <td>S1</td>\n      <td>S15</td>\n    </tr>\n    <tr>\n      <th>S14</th>\n      <td>S13</td>\n      <td>S10</td>\n    </tr>\n    <tr>\n      <th>S15</th>\n      <td>{S12,S6}</td>\n      <td>S5</td>\n    </tr>\n    <tr>\n      <th>S16</th>\n      <td>S18</td>\n      <td>{S12,S6}</td>\n    </tr>\n    <tr>\n      <th>S17</th>\n      <td>S15</td>\n      <td>{S20,S23}</td>\n    </tr>\n    <tr>\n      <th>S18</th>\n      <td>S10</td>\n      <td>S8</td>\n    </tr>\n    <tr>\n      <th>S19</th>\n      <td>S14</td>\n      <td>S26</td>\n    </tr>\n    <tr>\n      <th>S21</th>\n      <td>S8</td>\n      <td>S26</td>\n    </tr>\n    <tr>\n      <th>S22</th>\n      <td>S17</td>\n      <td>S2</td>\n    </tr>\n    <tr>\n      <th>*S24</th>\n      <td>S17</td>\n      <td>{S20,S23}</td>\n    </tr>\n    <tr>\n      <th>*S25</th>\n      <td>S4</td>\n      <td>S21</td>\n    </tr>\n    <tr>\n      <th>S26</th>\n      <td>S19</td>\n      <td>S26</td>\n    </tr>\n    <tr>\n      <th>{S12,S6}</th>\n      <td>S24</td>\n      <td>S0</td>\n    </tr>\n    <tr>\n      <th>{S20,S23}</th>\n      <td>S8</td>\n      <td>S25</td>\n    </tr>\n  </tbody>\n</table>\n</div>"
     },
     "metadata": {},
     "execution_count": 6
    }
   ],
   "source": [
    "# Python Task 5\n",
    "# Python Task 6\n",
    "import copy\n",
    "my_dfa_minimized = copy.deepcopy(my_dfa)\n",
    "my_dfa_minimized.state_minimisation()\n",
    "my_dfa_minimized.table_df"
   ]
  },
  {
   "cell_type": "code",
   "execution_count": 7,
   "metadata": {
    "tags": []
   },
   "outputs": [
    {
     "output_type": "stream",
     "name": "stdout",
     "text": [
      "False\nFalse\nFalse\nTrue\nFalse\n"
     ]
    }
   ],
   "source": [
    "# Python Task 7\n",
    "print(my_dfa.check_membership(\"\"))\n",
    "print(my_dfa.check_membership(\"1111\"))\n",
    "print(my_dfa.check_membership(\"0000\"))\n",
    "print(my_dfa.check_membership(\"010101010\"))\n",
    "print(my_dfa.check_membership(\"110011\"))"
   ]
  },
  {
   "cell_type": "code",
   "execution_count": 8,
   "metadata": {},
   "outputs": [
    {
     "output_type": "execute_result",
     "data": {
      "text/plain": [
       "'100'"
      ]
     },
     "metadata": {},
     "execution_count": 8
    }
   ],
   "source": [
    "# Python Task 8\n",
    "from bruteforce import BruteForcer\n",
    "BruteForcer.bruteforce_dfa_check_string_membership(my_dfa, my_dfa.alphabet)"
   ]
  },
  {
   "cell_type": "code",
   "execution_count": 9,
   "metadata": {
    "tags": []
   },
   "outputs": [
    {
     "output_type": "stream",
     "name": "stdout",
     "text": [
      "False\nFalse\nFalse\nTrue\nFalse\n"
     ]
    }
   ],
   "source": [
    "# Python Task 9\n",
    "print(my_dfa_minimized.check_membership(\"\"))\n",
    "print(my_dfa_minimized.check_membership(\"1111\"))\n",
    "print(my_dfa_minimized.check_membership(\"0000\"))\n",
    "print(my_dfa_minimized.check_membership(\"010101010\"))\n",
    "print(my_dfa_minimized.check_membership(\"110011\"))"
   ]
  },
  {
   "cell_type": "code",
   "execution_count": 10,
   "metadata": {},
   "outputs": [
    {
     "output_type": "execute_result",
     "data": {
      "text/plain": [
       "'100'"
      ]
     },
     "metadata": {},
     "execution_count": 10
    }
   ],
   "source": [
    "# Python Task 9\n",
    "BruteForcer.bruteforce_dfa_check_string_membership(my_dfa_minimized, my_dfa_minimized.alphabet)"
   ]
  },
  {
   "cell_type": "code",
   "execution_count": 11,
   "metadata": {},
   "outputs": [
    {
     "output_type": "execute_result",
     "data": {
      "text/plain": [
       "True"
      ]
     },
     "metadata": {},
     "execution_count": 11
    }
   ],
   "source": [
    "# Python Task 10\n",
    "# Python Task 11\n",
    "my_dfa.equivalence_test(my_dfa_minimized)"
   ]
  },
  {
   "cell_type": "code",
   "execution_count": 12,
   "metadata": {},
   "outputs": [],
   "source": [
    "# Report\n",
    "# 1. Start: [S8], Final: [S10, S24, S25]\n",
    "# 2. Unreachable: [S3]\n",
    "# 3. 24 States in the Minimum DFA\n",
    "# 4. 3 Final States\n",
    "# 5. \"010101010\" is in the language, all other examples are not\n",
    "# 6. \"100\" was the \"random\" string that waas found to be in the language of the DFA. Personally I chose to just opt for a bruce forcer so I could find a minimum string in the DFA.\n",
    "# 7. I calculated my equivalence a little different to the way it was done in Algorithm 1 as described in the lecture slides. However, if I were to have constructed a full product DFA as described in the lecture slides, the accept states in my product DFA would have been any pairs where one state was a final state and one state was not a final state. However the way I calculated my product DFA, the final states were the pairs (S10, S10) (S24, S24) and (S25, S25)."
   ]
  }
 ]
}